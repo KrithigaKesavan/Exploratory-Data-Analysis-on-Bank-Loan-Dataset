{
 "cells": [
  {
   "cell_type": "markdown",
   "id": "050c8f45",
   "metadata": {},
   "source": [
    "# CASE STUDY - BANK LOAN DETAILS"
   ]
  },
  {
   "cell_type": "markdown",
   "id": "7d20a69e",
   "metadata": {},
   "source": [
    "### 1.Analysing Application Dataset"
   ]
  },
  {
   "cell_type": "code",
   "execution_count": null,
   "id": "b20eb42d",
   "metadata": {},
   "outputs": [],
   "source": [
    "import warnings\n",
    "warnings.filterwarnings(\"ignore\")\n",
    "\n",
    "import numpy as np\n",
    "import pandas as pd\n",
    "import matplotlib.pyplot as plt\n",
    "import seaborn as sns\n",
    "%matplotlib inline\n",
    "import random\n",
    "pd.set_option(\"max_rows\", None)\n",
    "pd.set_option('display.max_columns', 500)"
   ]
  },
  {
   "cell_type": "code",
   "execution_count": null,
   "id": "bd9052e4",
   "metadata": {},
   "outputs": [],
   "source": [
    "df = pd.read_csv(\"application_data.csv\")\n",
    "df1 = pd.read_csv(\"previous_application.csv\")"
   ]
  },
  {
   "cell_type": "code",
   "execution_count": null,
   "id": "8b4c5ea6",
   "metadata": {},
   "outputs": [],
   "source": [
    "df.head()"
   ]
  },
  {
   "cell_type": "markdown",
   "id": "f0dac15b",
   "metadata": {},
   "source": [
    "#### 1.1 Identification of variables and data types"
   ]
  },
  {
   "cell_type": "code",
   "execution_count": null,
   "id": "89982653",
   "metadata": {},
   "outputs": [],
   "source": [
    "df.info()"
   ]
  },
  {
   "cell_type": "code",
   "execution_count": null,
   "id": "e871b3e9",
   "metadata": {},
   "outputs": [],
   "source": [
    "df.shape"
   ]
  },
  {
   "cell_type": "markdown",
   "id": "333da999",
   "metadata": {},
   "source": [
    "#### 1.2 Analyzing basic metrics"
   ]
  },
  {
   "cell_type": "code",
   "execution_count": null,
   "id": "0778b5a1",
   "metadata": {},
   "outputs": [],
   "source": [
    "df.describe()"
   ]
  },
  {
   "cell_type": "markdown",
   "id": "1ac1bcfb",
   "metadata": {},
   "source": [
    "#### 1.3 Finding missing values and dropping the columns"
   ]
  },
  {
   "cell_type": "code",
   "execution_count": null,
   "id": "1da2e5b4",
   "metadata": {},
   "outputs": [],
   "source": [
    "df.isnull().sum()"
   ]
  },
  {
   "cell_type": "markdown",
   "id": "ecc6c79f",
   "metadata": {},
   "source": [
    "#### Finding percentage of missing values"
   ]
  },
  {
   "cell_type": "code",
   "execution_count": null,
   "id": "ad14a1f9",
   "metadata": {
    "scrolled": true
   },
   "outputs": [],
   "source": [
    "\n",
    "round(df.isnull().sum()/len(df.index)*100,2).sort_values(ascending = False)\n"
   ]
  },
  {
   "cell_type": "markdown",
   "id": "67bba30b",
   "metadata": {},
   "source": [
    "#### Dropping missing values with more than 50%"
   ]
  },
  {
   "cell_type": "code",
   "execution_count": null,
   "id": "a039cf20",
   "metadata": {},
   "outputs": [],
   "source": [
    "df = df.loc[:,df.isnull().sum()/len(df.index)<=0.5]\n",
    "df.shape\n"
   ]
  },
  {
   "cell_type": "code",
   "execution_count": null,
   "id": "b9d1a2c4",
   "metadata": {},
   "outputs": [],
   "source": [
    "df.info()"
   ]
  },
  {
   "cell_type": "markdown",
   "id": "7d5bd38e",
   "metadata": {},
   "source": [
    "#### Dropping unnecessary columns which have missing values less than 13%"
   ]
  },
  {
   "cell_type": "code",
   "execution_count": null,
   "id": "233ea967",
   "metadata": {},
   "outputs": [],
   "source": [
    "Drop_col=['FLAG_MOBIL', 'FLAG_EMP_PHONE', 'FLAG_WORK_PHONE', 'FLAG_CONT_MOBILE','YEARS_BEGINEXPLUATATION_MODE','FLOORSMAX_MODE','TOTALAREA_MODE','EMERGENCYSTATE_MODE',\n",
    "       'FLAG_PHONE', 'FLAG_EMAIL','REGION_RATING_CLIENT','REGION_RATING_CLIENT_W_CITY','FLAG_EMAIL','CNT_FAM_MEMBERS','REGION_RATING_CLIENT',\n",
    "       'REGION_RATING_CLIENT_W_CITY','DAYS_LAST_PHONE_CHANGE', 'FLAG_DOCUMENT_2', 'FLAG_DOCUMENT_3','FLAG_DOCUMENT_4', 'FLAG_DOCUMENT_5', 'FLAG_DOCUMENT_6',\n",
    "       'FLAG_DOCUMENT_7', 'FLAG_DOCUMENT_8', 'FLAG_DOCUMENT_9','FLAG_DOCUMENT_10', 'FLAG_DOCUMENT_11', 'FLAG_DOCUMENT_12',\n",
    "       'FLAG_DOCUMENT_13', 'FLAG_DOCUMENT_14', 'FLAG_DOCUMENT_15','FLAG_DOCUMENT_16', 'FLAG_DOCUMENT_17', 'FLAG_DOCUMENT_18',\n",
    "       'FLAG_DOCUMENT_19', 'FLAG_DOCUMENT_20', 'FLAG_DOCUMENT_21','EXT_SOURCE_3','YEARS_BEGINEXPLUATATION_AVG','FLOORSMAX_AVG','YEARS_BEGINEXPLUATATION_MEDI','FLOORSMAX_MEDI']\n",
    "\n",
    "df.drop(labels=Drop_col,axis=1,inplace=True)"
   ]
  },
  {
   "cell_type": "code",
   "execution_count": null,
   "id": "1b724736",
   "metadata": {},
   "outputs": [],
   "source": [
    "df.shape"
   ]
  },
  {
   "cell_type": "markdown",
   "id": "9aa6a04f",
   "metadata": {},
   "source": [
    "#### 1.4 Imputing missing values"
   ]
  },
  {
   "cell_type": "markdown",
   "id": "a9891b55",
   "metadata": {},
   "source": [
    "####  OCCUPATION_TYPE"
   ]
  },
  {
   "cell_type": "code",
   "execution_count": null,
   "id": "696d8b57",
   "metadata": {},
   "outputs": [],
   "source": [
    "df['OCCUPATION_TYPE'].value_counts()"
   ]
  },
  {
   "cell_type": "code",
   "execution_count": null,
   "id": "5657d18c",
   "metadata": {},
   "outputs": [],
   "source": [
    "occ=df.OCCUPATION_TYPE.mode()[0]\n",
    "occ"
   ]
  },
  {
   "cell_type": "markdown",
   "id": "4cca7d19",
   "metadata": {},
   "source": [
    "OCCUPATION_TYPE can be imputed with the mode value of the column i.e Laborers"
   ]
  },
  {
   "cell_type": "markdown",
   "id": "d4015e27",
   "metadata": {},
   "source": [
    "#### NAME_TYPE_SUITE"
   ]
  },
  {
   "cell_type": "code",
   "execution_count": null,
   "id": "b0e077fc",
   "metadata": {},
   "outputs": [],
   "source": [
    "df['NAME_TYPE_SUITE'].value_counts()"
   ]
  },
  {
   "cell_type": "code",
   "execution_count": null,
   "id": "653e6910",
   "metadata": {},
   "outputs": [],
   "source": [
    "nts=df.NAME_TYPE_SUITE.mode()[0]\n",
    "nts"
   ]
  },
  {
   "cell_type": "markdown",
   "id": "2bff81b6",
   "metadata": {},
   "source": [
    "NAME_TYPE_SUITE is a categorical column which can be imputed using the mode of the column i.e Unaccompanied"
   ]
  },
  {
   "cell_type": "markdown",
   "id": "9f97be2e",
   "metadata": {},
   "source": [
    "#### EXT_SOURCE_2"
   ]
  },
  {
   "cell_type": "code",
   "execution_count": null,
   "id": "81808f2d",
   "metadata": {},
   "outputs": [],
   "source": [
    "df['EXT_SOURCE_2'].value_counts()"
   ]
  },
  {
   "cell_type": "code",
   "execution_count": null,
   "id": "7eb239f5",
   "metadata": {},
   "outputs": [],
   "source": [
    "df['EXT_SOURCE_2'].plot(kind='box')"
   ]
  },
  {
   "cell_type": "code",
   "execution_count": null,
   "id": "fb038366",
   "metadata": {},
   "outputs": [],
   "source": [
    "ext = round(df['EXT_SOURCE_2'].mean(),2)\n",
    "ext"
   ]
  },
  {
   "cell_type": "markdown",
   "id": "9fb3acad",
   "metadata": {},
   "source": [
    "EXT_SOURCE_2 no outliers, hence can be imputed with mean value"
   ]
  },
  {
   "cell_type": "markdown",
   "id": "9c78d4da",
   "metadata": {},
   "source": [
    "#### AMT_GOODS_PRICE"
   ]
  },
  {
   "cell_type": "code",
   "execution_count": null,
   "id": "cc453531",
   "metadata": {},
   "outputs": [],
   "source": [
    "df['AMT_GOODS_PRICE'].value_counts()  "
   ]
  },
  {
   "cell_type": "code",
   "execution_count": null,
   "id": "f9810123",
   "metadata": {},
   "outputs": [],
   "source": [
    "df['AMT_GOODS_PRICE'].plot(kind='box')"
   ]
  },
  {
   "cell_type": "code",
   "execution_count": null,
   "id": "879ae5b7",
   "metadata": {},
   "outputs": [],
   "source": [
    "#as it has outliers,median value can be imputed\n",
    "amt = round(df['AMT_GOODS_PRICE'].median(),2)\n",
    "amt"
   ]
  },
  {
   "cell_type": "markdown",
   "id": "cabb42a5",
   "metadata": {},
   "source": [
    "AMT_GOODS_PRICE has outliers, it can be imputed using the median of the coumn i.e. 450000.0"
   ]
  },
  {
   "cell_type": "markdown",
   "id": "134c76fa",
   "metadata": {},
   "source": [
    "#### AMT_ANNUITY"
   ]
  },
  {
   "cell_type": "code",
   "execution_count": null,
   "id": "f4c35895",
   "metadata": {},
   "outputs": [],
   "source": [
    "df['AMT_ANNUITY'].value_counts()"
   ]
  },
  {
   "cell_type": "code",
   "execution_count": null,
   "id": "ed362a99",
   "metadata": {},
   "outputs": [],
   "source": [
    "df['AMT_ANNUITY'].plot(kind='box')"
   ]
  },
  {
   "cell_type": "code",
   "execution_count": null,
   "id": "c7c244b3",
   "metadata": {},
   "outputs": [],
   "source": [
    "amt_a = round(df['AMT_ANNUITY'].median(),2)\n",
    "amt_a"
   ]
  },
  {
   "cell_type": "markdown",
   "id": "c0a93c56",
   "metadata": {},
   "source": [
    "AMT_ANNUITY has outliers and can be imputed using the median of the coumn i.e. 24903.0"
   ]
  },
  {
   "cell_type": "markdown",
   "id": "04878f70",
   "metadata": {},
   "source": [
    "#### 1.5 Checking data types"
   ]
  },
  {
   "cell_type": "code",
   "execution_count": null,
   "id": "07785085",
   "metadata": {},
   "outputs": [],
   "source": [
    "#changing negative to positive values¶\n",
    "df[['DAYS_BIRTH','DAYS_EMPLOYED','DAYS_REGISTRATION','DAYS_ID_PUBLISH']]=abs(df[['DAYS_BIRTH','DAYS_EMPLOYED','DAYS_REGISTRATION','DAYS_ID_PUBLISH']])\n",
    "df.describe()"
   ]
  },
  {
   "cell_type": "code",
   "execution_count": null,
   "id": "45ba8b0d",
   "metadata": {},
   "outputs": [],
   "source": [
    "# converting int to object\n",
    "df[['REG_REGION_NOT_LIVE_REGION','REG_REGION_NOT_WORK_REGION','LIVE_REGION_NOT_WORK_REGION','REG_CITY_NOT_LIVE_CITY','REG_CITY_NOT_WORK_CITY','LIVE_CITY_NOT_WORK_CITY']] = df[['REG_REGION_NOT_LIVE_REGION','REG_REGION_NOT_WORK_REGION','LIVE_REGION_NOT_WORK_REGION','REG_CITY_NOT_LIVE_CITY','REG_CITY_NOT_WORK_CITY','LIVE_CITY_NOT_WORK_CITY']].astype(object)\n",
    "df.info()"
   ]
  },
  {
   "cell_type": "code",
   "execution_count": null,
   "id": "1f0c983e",
   "metadata": {},
   "outputs": [],
   "source": [
    "#Making Gender more readable\n",
    "df['CODE_GENDER'].value_counts()"
   ]
  },
  {
   "cell_type": "code",
   "execution_count": null,
   "id": "af7e34d7",
   "metadata": {},
   "outputs": [],
   "source": [
    "#dropping code_gender=XNA from the dataset\n",
    "df = df[df['CODE_GENDER']!='XNA']\n",
    "df['CODE_GENDER'].replace(['M','F'],['Male','Female'],inplace=True)\n",
    "df['CODE_GENDER'].value_counts()"
   ]
  },
  {
   "cell_type": "code",
   "execution_count": null,
   "id": "420fc89f",
   "metadata": {},
   "outputs": [],
   "source": [
    "#### convert days_birth colun to age (age in years = age in days / 365)\n",
    "df['YEARS_BIRTH']= (df['DAYS_BIRTH']/365).astype('int64')\n",
    "##drop DAYS_BIRTH column as it is not required for further analysis\n",
    "df.drop(['DAYS_BIRTH'], inplace=True, axis=1)\n",
    "\n",
    "df['YEARS_BIRTH']"
   ]
  },
  {
   "cell_type": "markdown",
   "id": "21c031f2",
   "metadata": {},
   "source": [
    "### 2. Analysing Previous Application Dataset"
   ]
  },
  {
   "cell_type": "markdown",
   "id": "e42e9e1a",
   "metadata": {},
   "source": [
    "#### 2.1 Identifying data types and variables"
   ]
  },
  {
   "cell_type": "code",
   "execution_count": null,
   "id": "aa29bec3",
   "metadata": {
    "scrolled": false
   },
   "outputs": [],
   "source": [
    "df1.head()"
   ]
  },
  {
   "cell_type": "code",
   "execution_count": null,
   "id": "994e0931",
   "metadata": {},
   "outputs": [],
   "source": [
    "df1.info()"
   ]
  },
  {
   "cell_type": "code",
   "execution_count": null,
   "id": "faa0f482",
   "metadata": {},
   "outputs": [],
   "source": [
    "df1.shape"
   ]
  },
  {
   "cell_type": "markdown",
   "id": "ad3fe729",
   "metadata": {},
   "source": [
    "#### 2.2 Analyzing basic metrics"
   ]
  },
  {
   "cell_type": "code",
   "execution_count": null,
   "id": "1379c163",
   "metadata": {},
   "outputs": [],
   "source": [
    "df1.describe()"
   ]
  },
  {
   "cell_type": "markdown",
   "id": "ba1af969",
   "metadata": {},
   "source": [
    "#### 2.3 Finding missing values in rows and columns"
   ]
  },
  {
   "cell_type": "code",
   "execution_count": null,
   "id": "9dc8bfb0",
   "metadata": {},
   "outputs": [],
   "source": [
    "df1.isnull().sum()"
   ]
  },
  {
   "cell_type": "code",
   "execution_count": null,
   "id": "630634d8",
   "metadata": {
    "scrolled": true
   },
   "outputs": [],
   "source": [
    "#Finding percentage of missing values\n",
    "round(df1.isnull().sum()/len(df1.index)*100,2).sort_values(ascending = False)"
   ]
  },
  {
   "cell_type": "markdown",
   "id": "a7e70e74",
   "metadata": {},
   "source": [
    "#### dropping values which are greater than 50% "
   ]
  },
  {
   "cell_type": "code",
   "execution_count": null,
   "id": "7768d74e",
   "metadata": {},
   "outputs": [],
   "source": [
    "df1 = df1.loc[:,df1.isnull().sum()/len(df1.index)<=0.5]"
   ]
  },
  {
   "cell_type": "code",
   "execution_count": null,
   "id": "40726bdd",
   "metadata": {},
   "outputs": [],
   "source": [
    "df1.shape"
   ]
  },
  {
   "cell_type": "code",
   "execution_count": null,
   "id": "2a1dfc47",
   "metadata": {},
   "outputs": [],
   "source": [
    "df1 = df1.sort_values('SK_ID_PREV', ascending=False).drop_duplicates('SK_ID_CURR')"
   ]
  },
  {
   "cell_type": "code",
   "execution_count": null,
   "id": "48754abb",
   "metadata": {},
   "outputs": [],
   "source": [
    "df1[df1['DAYS_TERMINATION'] > 0].head()"
   ]
  },
  {
   "cell_type": "code",
   "execution_count": null,
   "id": "c3b63c4a",
   "metadata": {},
   "outputs": [],
   "source": [
    "df1.shape"
   ]
  },
  {
   "cell_type": "markdown",
   "id": "0ae1e548",
   "metadata": {},
   "source": [
    "#### Renaming column names"
   ]
  },
  {
   "cell_type": "code",
   "execution_count": null,
   "id": "b86e12b7",
   "metadata": {},
   "outputs": [],
   "source": [
    "df1_1 = df1[['SK_ID_CURR', 'AMT_CREDIT', 'NAME_CONTRACT_STATUS', 'CODE_REJECT_REASON', 'NAME_YIELD_GROUP', 'DAYS_TERMINATION']]\n",
    "df1_1.head()"
   ]
  },
  {
   "cell_type": "code",
   "execution_count": null,
   "id": "d93ab1c4",
   "metadata": {},
   "outputs": [],
   "source": [
    "names = {'AMT_CREDIT': 'PREV_AMT_CREDIT', 'NAME_CONTRACT_STATUS': 'PREV_CONTRACT_STATUS',\n",
    "         'DAYS_TERMINATION':'PREV_DAYS_TERMINATION', 'CODE_REJECT_REASON':'PREV_REJECT_REASON',\n",
    "        'NAME_YIELD_GROUP':'PREV_YIELD_GROUP'}\n",
    "\n",
    "df1_1 = df1_1.rename(columns=names)\n",
    "df1_1.head()"
   ]
  },
  {
   "cell_type": "markdown",
   "id": "231ba3a3",
   "metadata": {},
   "source": [
    "#### 2.4 Imputing missing values"
   ]
  },
  {
   "cell_type": "code",
   "execution_count": null,
   "id": "e5d0306d",
   "metadata": {},
   "outputs": [],
   "source": [
    "df1_1.PREV_DAYS_TERMINATION.value_counts(normalize=True)"
   ]
  },
  {
   "cell_type": "code",
   "execution_count": null,
   "id": "04cb2f11",
   "metadata": {},
   "outputs": [],
   "source": [
    "df1_1.PREV_DAYS_TERMINATION[df1_1.PREV_DAYS_TERMINATION > 0].value_counts()"
   ]
  },
  {
   "cell_type": "code",
   "execution_count": null,
   "id": "2d1adf80",
   "metadata": {},
   "outputs": [],
   "source": [
    "# Replace values with NaN\n",
    "\n",
    "df1_1.PREV_DAYS_TERMINATION.replace({365243.0 : np.NaN}, inplace=True)\n",
    "df1_1.PREV_DAYS_TERMINATION[df1_1.PREV_DAYS_TERMINATION > 0].value_counts()"
   ]
  },
  {
   "cell_type": "markdown",
   "id": "c774cc0e",
   "metadata": {},
   "source": [
    "### 3. Merging Application Dataset with Previous Application Dataset"
   ]
  },
  {
   "cell_type": "code",
   "execution_count": null,
   "id": "f6704205",
   "metadata": {},
   "outputs": [],
   "source": [
    "df = pd.merge(left=df,right=df1_1, how='left', left_on='SK_ID_CURR', right_on='SK_ID_CURR')\n",
    "df.head()"
   ]
  },
  {
   "cell_type": "code",
   "execution_count": null,
   "id": "c8e4cf02",
   "metadata": {},
   "outputs": [],
   "source": [
    "df.shape"
   ]
  },
  {
   "cell_type": "markdown",
   "id": "55faaec5",
   "metadata": {},
   "source": [
    "### 4. Handling Outliers"
   ]
  },
  {
   "cell_type": "markdown",
   "id": "a7e27b58",
   "metadata": {},
   "source": [
    "#### AMT_ANNUITY variable"
   ]
  },
  {
   "cell_type": "code",
   "execution_count": null,
   "id": "41c55790",
   "metadata": {},
   "outputs": [],
   "source": [
    "df.AMT_ANNUITY.describe()"
   ]
  },
  {
   "cell_type": "code",
   "execution_count": null,
   "id": "07f7e4fd",
   "metadata": {},
   "outputs": [],
   "source": [
    "sns.boxplot(df.AMT_ANNUITY)\n",
    "plt.title('Distribution of Amount Annuity')\n",
    "plt.show()"
   ]
  },
  {
   "cell_type": "code",
   "execution_count": null,
   "id": "2477e519",
   "metadata": {},
   "outputs": [],
   "source": [
    "##Remove the outliers\n",
    "df=df[df['AMT_ANNUITY'] <= 200000]"
   ]
  },
  {
   "cell_type": "code",
   "execution_count": null,
   "id": "547de84e",
   "metadata": {},
   "outputs": [],
   "source": [
    "sns.boxplot(df['AMT_ANNUITY'])\n",
    "plt.show()"
   ]
  },
  {
   "cell_type": "markdown",
   "id": "885e975a",
   "metadata": {},
   "source": [
    "#### AMT_INCOME_TOTAL "
   ]
  },
  {
   "cell_type": "code",
   "execution_count": null,
   "id": "a2bec72d",
   "metadata": {},
   "outputs": [],
   "source": [
    "df.AMT_INCOME_TOTAL.describe()"
   ]
  },
  {
   "cell_type": "code",
   "execution_count": null,
   "id": "257ccaef",
   "metadata": {},
   "outputs": [],
   "source": [
    "plt.figure(figsize=(9,2))\n",
    "sns.boxplot(df.AMT_INCOME_TOTAL)\n",
    "plt.xscale('log')\n",
    "plt.title('Distribution of Income')\n",
    "plt.show()"
   ]
  },
  {
   "cell_type": "code",
   "execution_count": null,
   "id": "72b84eab",
   "metadata": {},
   "outputs": [],
   "source": [
    "df.AMT_INCOME_TOTAL.quantile([0.5, 0.7, 0.9,0.95,0.99])"
   ]
  },
  {
   "cell_type": "code",
   "execution_count": null,
   "id": "61d09df5",
   "metadata": {},
   "outputs": [],
   "source": [
    "##Remove the outliers\n",
    "df=df[df['AMT_INCOME_TOTAL'] <= 5*pow(10,6)]"
   ]
  },
  {
   "cell_type": "code",
   "execution_count": null,
   "id": "4ee17548",
   "metadata": {},
   "outputs": [],
   "source": [
    "sns.boxplot(df['AMT_INCOME_TOTAL'])\n",
    "plt.show()"
   ]
  },
  {
   "cell_type": "markdown",
   "id": "3a9ae7fc",
   "metadata": {},
   "source": [
    "#### AMT_CREDIT"
   ]
  },
  {
   "cell_type": "code",
   "execution_count": null,
   "id": "492ed59f",
   "metadata": {},
   "outputs": [],
   "source": [
    "df.AMT_CREDIT.describe()"
   ]
  },
  {
   "cell_type": "code",
   "execution_count": null,
   "id": "bdd113c5",
   "metadata": {},
   "outputs": [],
   "source": [
    "plt.figure(figsize=(9,2))\n",
    "sns.boxplot(df.AMT_CREDIT)\n",
    "plt.title('Distribution of Credit amount')\n",
    "plt.show()"
   ]
  },
  {
   "cell_type": "code",
   "execution_count": null,
   "id": "0c28a649",
   "metadata": {},
   "outputs": [],
   "source": [
    "df.AMT_CREDIT.quantile([0.5, 0.7, 0.9,0.95,0.99])"
   ]
  },
  {
   "cell_type": "code",
   "execution_count": null,
   "id": "84f02014",
   "metadata": {},
   "outputs": [],
   "source": [
    "##Remove the outliers\n",
    "df=df[df['AMT_CREDIT'] <= 2.7*pow(10,6)]"
   ]
  },
  {
   "cell_type": "code",
   "execution_count": null,
   "id": "2a5968ea",
   "metadata": {},
   "outputs": [],
   "source": [
    "sns.boxplot(df['AMT_CREDIT'])\n",
    "plt.show()"
   ]
  },
  {
   "cell_type": "markdown",
   "id": "b5c8bd60",
   "metadata": {},
   "source": [
    "#### DAYS_EMPLOYED "
   ]
  },
  {
   "cell_type": "code",
   "execution_count": null,
   "id": "e94977c4",
   "metadata": {},
   "outputs": [],
   "source": [
    "df.DAYS_EMPLOYED.describe()"
   ]
  },
  {
   "cell_type": "code",
   "execution_count": null,
   "id": "3ffbcf25",
   "metadata": {
    "scrolled": true
   },
   "outputs": [],
   "source": [
    "plt.figure(figsize=(15,5))\n",
    "sns.boxplot(df.DAYS_EMPLOYED)\n",
    "plt.title('Distribution of Days the client employed')\n",
    "\n",
    "plt.show()"
   ]
  },
  {
   "cell_type": "code",
   "execution_count": null,
   "id": "fc730ba2",
   "metadata": {},
   "outputs": [],
   "source": [
    "##Remove the outliers\n",
    "df=df[df['DAYS_EMPLOYED'] <= 800]"
   ]
  },
  {
   "cell_type": "code",
   "execution_count": null,
   "id": "b5e74d91",
   "metadata": {},
   "outputs": [],
   "source": [
    "sns.boxplot(df.DAYS_EMPLOYED)\n",
    "\n",
    "plt.show()"
   ]
  },
  {
   "cell_type": "markdown",
   "id": "323505e9",
   "metadata": {},
   "source": [
    "#### DAYS_REGISTRATION"
   ]
  },
  {
   "cell_type": "code",
   "execution_count": null,
   "id": "1991af6c",
   "metadata": {},
   "outputs": [],
   "source": [
    "df.DAYS_REGISTRATION\n",
    "sns.boxplot(df['DAYS_REGISTRATION'])"
   ]
  },
  {
   "cell_type": "markdown",
   "id": "1e4a0008",
   "metadata": {},
   "source": [
    "DAYS_REGISTRATION column has no outliers"
   ]
  },
  {
   "cell_type": "markdown",
   "id": "7b6af449",
   "metadata": {},
   "source": [
    "#### CNT_CHILDREN"
   ]
  },
  {
   "cell_type": "code",
   "execution_count": null,
   "id": "aaeab9c1",
   "metadata": {
    "scrolled": true
   },
   "outputs": [],
   "source": [
    "sns.boxplot(df['CNT_CHILDREN'])\n",
    "plt.show()"
   ]
  },
  {
   "cell_type": "code",
   "execution_count": null,
   "id": "b0b33cc4",
   "metadata": {},
   "outputs": [],
   "source": [
    "##Remove the outliers\n",
    "df=df[df['CNT_CHILDREN'] <= 6]"
   ]
  },
  {
   "cell_type": "code",
   "execution_count": null,
   "id": "4940e057",
   "metadata": {},
   "outputs": [],
   "source": [
    "sns.boxplot(df['CNT_CHILDREN'])\n",
    "plt.show()"
   ]
  },
  {
   "cell_type": "markdown",
   "id": "56767610",
   "metadata": {},
   "source": [
    "### 5. Binning Variables for Analysis"
   ]
  },
  {
   "cell_type": "code",
   "execution_count": null,
   "id": "7f5aa3f4",
   "metadata": {},
   "outputs": [],
   "source": [
    "#Creating bins for Credit amount\n",
    "\n",
    "bins = [0,350000,700000,1000000000]\n",
    "slots = ['Low','Medium','High']\n",
    "df['AMT_CREDIT_RANGE']=pd.cut(df['AMT_CREDIT'],bins=bins,labels=slots)"
   ]
  },
  {
   "cell_type": "code",
   "execution_count": null,
   "id": "3ac197e4",
   "metadata": {},
   "outputs": [],
   "source": [
    "# Creating bins for income amount\n",
    "\n",
    "bins = [0,200000,400000,10000000000]\n",
    "slot = ['Low','Medium','High']\n",
    "\n",
    "df['AMT_INCOME_RANGE']=pd.cut(df['AMT_INCOME_TOTAL'],bins,labels=slot)"
   ]
  },
  {
   "cell_type": "code",
   "execution_count": null,
   "id": "1d5ef531",
   "metadata": {},
   "outputs": [],
   "source": [
    "# Creating bins for days_birth\n",
    "\n",
    "bins = [0,7300,10950,14600,18250,21900,25500]\n",
    "slot = ['0-20','20-30','30-40','40-50','50-60','60-70']\n",
    "\n",
    "df['AGE_RANGE']=pd.cut(df['YEARS_BIRTH'],bins,labels=slot)"
   ]
  },
  {
   "cell_type": "code",
   "execution_count": null,
   "id": "b5c54029",
   "metadata": {},
   "outputs": [],
   "source": [
    "#Creating a column AGE using DAYS_BIRTH\n",
    "df['AGE']=abs(df['YEARS_BIRTH'])//365.25\n",
    "df['AGE_GROUP'] = pd.cut(df['AGE'],bins=np.arange(20,71,5))\n",
    "\n"
   ]
  },
  {
   "cell_type": "code",
   "execution_count": null,
   "id": "68a5ae60",
   "metadata": {},
   "outputs": [],
   "source": [
    "df.describe()"
   ]
  },
  {
   "cell_type": "markdown",
   "id": "c6b57c7f",
   "metadata": {},
   "source": [
    "### 6. Univariate Analysis"
   ]
  },
  {
   "cell_type": "markdown",
   "id": "f58ad4e9",
   "metadata": {},
   "source": [
    "#### CODE_GENDER"
   ]
  },
  {
   "cell_type": "code",
   "execution_count": null,
   "id": "0cc317d9",
   "metadata": {},
   "outputs": [],
   "source": [
    "# analyse gender distribution in data\n",
    "\n",
    "df.CODE_GENDER.value_counts(normalize = True)*100"
   ]
  },
  {
   "cell_type": "code",
   "execution_count": null,
   "id": "e56d3ee3",
   "metadata": {},
   "outputs": [],
   "source": [
    "# plot a bar graph for gender columns\n",
    "df.CODE_GENDER.value_counts(normalize = True).plot.barh()\n",
    "plt.show()"
   ]
  },
  {
   "cell_type": "markdown",
   "id": "5c03bc52",
   "metadata": {},
   "source": [
    "#### NAME_EDUCATION_TYPE"
   ]
  },
  {
   "cell_type": "code",
   "execution_count": null,
   "id": "a01681fc",
   "metadata": {},
   "outputs": [],
   "source": [
    "df.NAME_EDUCATION_TYPE.value_counts()"
   ]
  },
  {
   "cell_type": "code",
   "execution_count": null,
   "id": "222c3422",
   "metadata": {},
   "outputs": [],
   "source": [
    "# bar chart for education type\n",
    "df.NAME_EDUCATION_TYPE.value_counts(normalize=True).plot.bar()\n",
    "plt.show()"
   ]
  },
  {
   "cell_type": "markdown",
   "id": "bb0634ba",
   "metadata": {},
   "source": [
    "#### NAME_FAMILY_STATUS"
   ]
  },
  {
   "cell_type": "code",
   "execution_count": null,
   "id": "4f658a41",
   "metadata": {},
   "outputs": [],
   "source": [
    "# bar chart for family status\n",
    "\n",
    "df.NAME_FAMILY_STATUS.value_counts(normalize=True).plot.bar()\n",
    "plt.show()"
   ]
  },
  {
   "cell_type": "markdown",
   "id": "523064ef",
   "metadata": {},
   "source": [
    "#### OCCUPATION_TYPE"
   ]
  },
  {
   "cell_type": "code",
   "execution_count": null,
   "id": "c46795fc",
   "metadata": {},
   "outputs": [],
   "source": [
    "df.OCCUPATION_TYPE.value_counts(normalize=True)*100"
   ]
  },
  {
   "cell_type": "code",
   "execution_count": null,
   "id": "48b7e4f4",
   "metadata": {},
   "outputs": [],
   "source": [
    "# bar chart for OCCUPATION type excluding others\n",
    "\n",
    "plt.figure(figsize=(8,5))\n",
    "df[~(df.OCCUPATION_TYPE == 'Others')].OCCUPATION_TYPE.value_counts(normalize=True).plot.bar()\n",
    "plt.show()"
   ]
  },
  {
   "cell_type": "markdown",
   "id": "f951f2cf",
   "metadata": {},
   "source": [
    "#### AGE "
   ]
  },
  {
   "cell_type": "code",
   "execution_count": null,
   "id": "09f0cb05",
   "metadata": {},
   "outputs": [],
   "source": [
    "#bar chart for age\n",
    "plt.style.use('ggplot')\n",
    "plt.figure(figsize=(10,6))\n",
    "plt.hist(df.AGE,bins = 20, edgecolor='White')\n",
    "plt.show()"
   ]
  },
  {
   "cell_type": "code",
   "execution_count": null,
   "id": "b2f31a95",
   "metadata": {},
   "outputs": [],
   "source": [
    "# To better represent the age we can bin age into groups LIKE ,30, 30-40, 40-50, 50-60, 60+ \n",
    "\n",
    "age_buckets = ['<30','30-40','40-50','50-60','60+']\n",
    "df['AGE_GROUP'] = pd.cut(df.AGE, [0,30,40,50,60,999], labels=age_buckets)\n",
    "df['AGE_GROUP'].value_counts(normalize=True)*100"
   ]
  },
  {
   "cell_type": "markdown",
   "id": "6b1f52f9",
   "metadata": {},
   "source": [
    "#### AMT_INCOME_TOTAL"
   ]
  },
  {
   "cell_type": "code",
   "execution_count": null,
   "id": "60a22770",
   "metadata": {},
   "outputs": [],
   "source": [
    "#AMT_INCOME_TOTAL\n",
    "plt.figure(figsize=(10,6))\n",
    "plt.hist(df[df.AMT_INCOME_TOTAL < 10**6].AMT_INCOME_TOTAL, bins=20, edgecolor='White')\n",
    "plt.show()"
   ]
  },
  {
   "cell_type": "markdown",
   "id": "ede2c2a1",
   "metadata": {},
   "source": [
    "#### AMT_CREDIT"
   ]
  },
  {
   "cell_type": "code",
   "execution_count": null,
   "id": "e5f5bb11",
   "metadata": {},
   "outputs": [],
   "source": [
    "#AMT_CREDIT\n",
    "plt.figure(figsize=(10,6))\n",
    "plt.hist(df.AMT_CREDIT, bins=20, edgecolor='White')\n",
    "plt.show()"
   ]
  },
  {
   "cell_type": "markdown",
   "id": "88b1d8c6",
   "metadata": {},
   "source": [
    "#### FLAG_OWN_REALITY "
   ]
  },
  {
   "cell_type": "code",
   "execution_count": null,
   "id": "0e550249",
   "metadata": {},
   "outputs": [],
   "source": [
    "#FLAG_OWN_REALITY\n",
    "df.FLAG_OWN_REALTY.value_counts(normalize=True)*100"
   ]
  },
  {
   "cell_type": "code",
   "execution_count": null,
   "id": "d511b5e0",
   "metadata": {},
   "outputs": [],
   "source": [
    "# plot FLAG_OWN_REALTY \n",
    "df.FLAG_OWN_REALTY.value_counts(normalize=True).plot.bar()\n",
    "plt.show()"
   ]
  },
  {
   "cell_type": "markdown",
   "id": "74a6efde",
   "metadata": {},
   "source": [
    "###  7. Bivariate Analysis"
   ]
  },
  {
   "cell_type": "markdown",
   "id": "ff70691c",
   "metadata": {},
   "source": [
    "#### Numeric - Numeric Analysis"
   ]
  },
  {
   "cell_type": "code",
   "execution_count": null,
   "id": "8dc72abd",
   "metadata": {},
   "outputs": [],
   "source": [
    "#plotting the relation between numeric vriables\n",
    "plt.figure(figsize=[6,2])\n",
    "sns.pairplot(df[['AMT_ANNUITY','AMT_CREDIT','AMT_GOODS_PRICE','DAYS_EMPLOYED','DAYS_REGISTRATION']], \n",
    "             diag_kind = 'kde', \n",
    "             plot_kws = {'alpha': 0.4, 's': 80, 'edgecolor': 'k'},\n",
    "             size = 4)\n",
    "plt.show()"
   ]
  },
  {
   "cell_type": "markdown",
   "id": "eb8e5c5f",
   "metadata": {},
   "source": [
    "- There is not such correlation can be observed from the above pairplot\n",
    "- Linear correlation present between AMT_GOODS_PRICE vs AMT_CREDIT , AMT_GOODS_PRICE vs AMT_ANNUITY"
   ]
  },
  {
   "cell_type": "markdown",
   "id": "6111e2e0",
   "metadata": {},
   "source": [
    "#### Numeric - Categorical Analysis"
   ]
  },
  {
   "cell_type": "code",
   "execution_count": null,
   "id": "8f4fa029",
   "metadata": {},
   "outputs": [],
   "source": [
    "#by variant analysis function\n",
    "def plot_by_cat_num(cat, num):\n",
    "\n",
    "    plt.style.use('ggplot')\n",
    "    sns.despine\n",
    "    fig,ax = plt.subplots(1,1,figsize=(10,8))\n",
    "    \n",
    "    sns.boxenplot(x=cat,y = num, data=df)\n",
    "    ax.set_ylabel(f'{num}')\n",
    "    ax.set_xlabel(f'{cat}') \n",
    "    ax.set_title(f'{cat} Vs {num}',fontsize=15)\n",
    "    ax.set_xticklabels(ax.get_xticklabels(), rotation=40, ha=\"right\")\n",
    "     \n",
    "    plt.show()"
   ]
  },
  {
   "cell_type": "code",
   "execution_count": null,
   "id": "a30a1dc1",
   "metadata": {},
   "outputs": [],
   "source": [
    "#by-varient analysis of Contract type and Amt credit of previous appliction\n",
    "plot_by_cat_num('NAME_CONTRACT_TYPE', 'AMT_CREDIT')"
   ]
  },
  {
   "cell_type": "markdown",
   "id": "ecc0f105",
   "metadata": {},
   "source": [
    "- There is huge difference between 75th quartile in cash loans and revolving loans\n",
    "- There are some outliers present in cash loan\n",
    "- Number of clients is very high for cash loans than revolving loan"
   ]
  },
  {
   "cell_type": "code",
   "execution_count": null,
   "id": "7f9b2f4a",
   "metadata": {},
   "outputs": [],
   "source": [
    "#by-varient analysis of name education type and Amt credit of previous appliction\n",
    "plot_by_cat_num('NAME_EDUCATION_TYPE', 'AMT_CREDIT')"
   ]
  },
  {
   "cell_type": "markdown",
   "id": "5790d592",
   "metadata": {},
   "source": [
    "\n",
    "- median is approximatey same for each education type\n",
    "- Number of outliers are present for each education type"
   ]
  },
  {
   "cell_type": "code",
   "execution_count": null,
   "id": "90859ab5",
   "metadata": {},
   "outputs": [],
   "source": [
    "#by-varient analysis of name income type and Amt credit of previous appliction\n",
    "plot_by_cat_num('NAME_INCOME_TYPE', 'AMT_CREDIT')"
   ]
  },
  {
   "cell_type": "markdown",
   "id": "14837ec1",
   "metadata": {},
   "source": [
    "\n",
    "- Number of outliers are more for woeking and commercial associate as compared to state servant\n",
    "- Median is heighest for commercial associate\n"
   ]
  },
  {
   "cell_type": "code",
   "execution_count": null,
   "id": "87d7c046",
   "metadata": {},
   "outputs": [],
   "source": [
    "#by-varient analysis of name income type and Amt credit of previous appliction\n",
    "plot_by_cat_num('OCCUPATION_TYPE', 'AMT_CREDIT')"
   ]
  },
  {
   "cell_type": "markdown",
   "id": "c9744f3f",
   "metadata": {},
   "source": [
    "\n",
    "- Number of outliers is also more for each occupation type\n",
    "- Median of occupation type Managers is heighest "
   ]
  },
  {
   "cell_type": "code",
   "execution_count": null,
   "id": "65ab7c0f",
   "metadata": {},
   "outputs": [],
   "source": [
    "#by-varient analysis of name income type and Amt credit of previous appliction\n",
    "plot_by_cat_num('OCCUPATION_TYPE', 'AMT_INCOME_TOTAL')"
   ]
  },
  {
   "cell_type": "markdown",
   "id": "30705c50",
   "metadata": {},
   "source": [
    "\n",
    "- Occupation type Managers have heighest income total\n",
    "- Cleaning staff, cooking staff ,Low skill laboreres have lowest income total\n"
   ]
  },
  {
   "cell_type": "code",
   "execution_count": null,
   "id": "4a36de85",
   "metadata": {},
   "outputs": [],
   "source": [
    "#by-varient analysis of name income type and Amt credit of previous appliction\n",
    "plot_by_cat_num('AMT_INCOME_TOTAL', 'CODE_GENDER')"
   ]
  },
  {
   "cell_type": "markdown",
   "id": "98debcdc",
   "metadata": {},
   "source": [
    "\n",
    "- Number of outliers are more for male gender\n",
    "- Median of income total is more of male gender as compared with female gender"
   ]
  },
  {
   "cell_type": "code",
   "execution_count": null,
   "id": "d625377a",
   "metadata": {},
   "outputs": [],
   "source": [
    "#by-varient analysis of name income type and Amt credit of previous appliction\n",
    "plot_by_cat_num('AMT_INCOME_TOTAL', 'NAME_EDUCATION_TYPE')"
   ]
  },
  {
   "cell_type": "markdown",
   "id": "979b5f6a",
   "metadata": {},
   "source": [
    "\n",
    "- More outliers present in the education type Higher education and secondary special\n",
    "- Median of income total is lowest for education type lower secondary\n"
   ]
  },
  {
   "cell_type": "markdown",
   "id": "9d2a4b2f",
   "metadata": {},
   "source": [
    "#### Categorical - Categorical"
   ]
  },
  {
   "cell_type": "code",
   "execution_count": null,
   "id": "5aec57f9",
   "metadata": {},
   "outputs": [],
   "source": [
    "def plotuni_combined(Varx,Vary):\n",
    "    # 100% bar chart\n",
    "    plt.style.use('ggplot')\n",
    "    sns.despine\n",
    "    NewDat = df.pivot_table(values='SK_ID_CURR', \n",
    "                      index=Varx,\n",
    "                      columns=Vary,\n",
    "                      aggfunc='count')\n",
    "    NewDat=NewDat.div(NewDat.sum(axis=1),axis='rows')*100\n",
    "    sns.set()\n",
    "    NewDat.plot(kind='bar',stacked=True,figsize=(15,5))\n",
    "    plt.title(f'Effect Of {Varx} on Loan Approval')\n",
    "    plt.xlabel(f'{Varx}')\n",
    "    plt.ylabel(f'{Vary}%')\n",
    "    plt.show()"
   ]
  },
  {
   "cell_type": "code",
   "execution_count": null,
   "id": "347637e1",
   "metadata": {},
   "outputs": [],
   "source": [
    "plotuni_combined('FLAG_OWN_CAR','NAME_EDUCATION_TYPE')"
   ]
  },
  {
   "cell_type": "markdown",
   "id": "fcf9e671",
   "metadata": {},
   "source": [
    "- Clients with Education type academic are not available in data\n",
    "- Clients having education type Secondary/secondary special have heighest number of cars\n"
   ]
  },
  {
   "cell_type": "code",
   "execution_count": null,
   "id": "b0e3e5ea",
   "metadata": {},
   "outputs": [],
   "source": [
    "plotuni_combined('CODE_GENDER','OCCUPATION_TYPE')"
   ]
  },
  {
   "cell_type": "markdown",
   "id": "3d941c95",
   "metadata": {},
   "source": [
    "- Very few Female and male clints are present having occupation type HR staff and IT staff \n",
    "- Proportion of male and female clients with occupation type managers is some what same.\n",
    "- Proportion of female clients is more having occupation type Core staff, Sales staff , Accountants , cleaning staff , cooking staff and unknown\n",
    "- Very less male clients present in Reality agents, Private service staff, Medicine staff, Waiters/barmen staff\n",
    "- Number of male cilents is more in Drivers, Security staff and Laborers"
   ]
  },
  {
   "cell_type": "code",
   "execution_count": null,
   "id": "8d4474fb",
   "metadata": {},
   "outputs": [],
   "source": [
    "plotuni_combined('NAME_INCOME_TYPE','NAME_CONTRACT_TYPE')"
   ]
  },
  {
   "cell_type": "markdown",
   "id": "fb6ba0d2",
   "metadata": {},
   "source": [
    "- There is not any correlation between income type Businessman and Student\n",
    "- Number of cash loan client is very high for students"
   ]
  },
  {
   "cell_type": "markdown",
   "id": "aafe8b27",
   "metadata": {},
   "source": [
    "### 8. Multivariate Analysis"
   ]
  },
  {
   "cell_type": "code",
   "execution_count": null,
   "id": "5919598d",
   "metadata": {},
   "outputs": [],
   "source": [
    "res = pd.pivot_table(data=df, index='OCCUPATION_TYPE', columns='NAME_CONTRACT_TYPE', values='TARGET')\n",
    "res"
   ]
  },
  {
   "cell_type": "code",
   "execution_count": null,
   "id": "a0bc1205",
   "metadata": {},
   "outputs": [],
   "source": [
    "plt.figure(figsize=(8,8))\n",
    "sns.heatmap(res, annot=True, cmap='YlOrRd', center=0.081)\n",
    "plt.show()"
   ]
  },
  {
   "cell_type": "code",
   "execution_count": null,
   "id": "ab4b747c",
   "metadata": {},
   "outputs": [],
   "source": [
    "res = pd.pivot_table(data=df, index='NAME_EDUCATION_TYPE', columns='NAME_CONTRACT_TYPE', values='TARGET')\n",
    "res"
   ]
  },
  {
   "cell_type": "code",
   "execution_count": null,
   "id": "36df45db",
   "metadata": {},
   "outputs": [],
   "source": [
    "plt.figure(figsize=(8,8))\n",
    "sns.heatmap(res, annot=True, cmap='YlOrRd', center=0.081)\n",
    "plt.show()"
   ]
  },
  {
   "cell_type": "code",
   "execution_count": null,
   "id": "128e4b14",
   "metadata": {},
   "outputs": [],
   "source": [
    "res = pd.pivot_table(data=df, index='OCCUPATION_TYPE', columns='NAME_EDUCATION_TYPE', values='TARGET')\n",
    "res"
   ]
  },
  {
   "cell_type": "code",
   "execution_count": null,
   "id": "01541919",
   "metadata": {},
   "outputs": [],
   "source": [
    "plt.figure(figsize=(8,8))\n",
    "sns.heatmap(res, annot=True, cmap='YlOrRd', center=0.081)\n",
    "plt.show()"
   ]
  },
  {
   "cell_type": "code",
   "execution_count": null,
   "id": "9c9f4cf6",
   "metadata": {},
   "outputs": [],
   "source": [
    "res = df[['TARGET', 'AGE', 'AMT_INCOME_TOTAL','AMT_CREDIT', 'EXT_SOURCE_2', 'CODE_GENDER', 'NAME_FAMILY_STATUS']].corr()\n",
    "res"
   ]
  },
  {
   "cell_type": "code",
   "execution_count": null,
   "id": "cfecf556",
   "metadata": {},
   "outputs": [],
   "source": [
    "plt.figure(figsize=(8,8))\n",
    "sns.heatmap(res, annot=True, cmap='YlOrRd', vmin=-1,vmax=1)\n",
    "plt.show()"
   ]
  },
  {
   "cell_type": "markdown",
   "id": "96738019",
   "metadata": {},
   "source": [
    "### 9. Correlation "
   ]
  },
  {
   "cell_type": "code",
   "execution_count": null,
   "id": "262ace6c",
   "metadata": {},
   "outputs": [],
   "source": [
    "#finding correlation\n",
    "corr=df.corr()\n",
    "corr_df = corr.where(np.triu(np.ones(corr.shape),k=1).astype(np.bool)).unstack().reset_index()\n",
    "corr_df.columns=['Column1','Column2','Correlation']\n",
    "corr_df.dropna(subset=['Correlation'],inplace=True)\n",
    "corr_df['Abs_Correlation']=corr_df['Correlation'].abs()\n",
    "corr_df = corr_df.sort_values(by=['Abs_Correlation'], ascending=False)\n",
    "corr_df.head(10)"
   ]
  },
  {
   "cell_type": "code",
   "execution_count": null,
   "id": "a9b49884",
   "metadata": {},
   "outputs": [],
   "source": [
    "##create new dataframe for target=1\n",
    "target_1=df[df['TARGET']==1]\n",
    "target_1.head()"
   ]
  },
  {
   "cell_type": "code",
   "execution_count": null,
   "id": "df01dfdd",
   "metadata": {},
   "outputs": [],
   "source": [
    "target_1.shape"
   ]
  },
  {
   "cell_type": "code",
   "execution_count": null,
   "id": "6dd8ce0e",
   "metadata": {},
   "outputs": [],
   "source": [
    "#Create new dataframe for target=0\n",
    "target_0=df[df['TARGET']==0]\n",
    "target_0.head()"
   ]
  },
  {
   "cell_type": "code",
   "execution_count": null,
   "id": "83d5c240",
   "metadata": {},
   "outputs": [],
   "source": [
    "target_0.shape"
   ]
  },
  {
   "cell_type": "code",
   "execution_count": null,
   "id": "862070af",
   "metadata": {},
   "outputs": [],
   "source": [
    "###plot heatmap to find correlation between all numerical variables when target_0\n",
    "plt.figure(figsize=(30,15)) \n",
    "sns.heatmap(target_0.corr(), annot=True , cmap=\"RdYlGn\",center=0.4)\n",
    "plt.title('Correlation for target_0')\n",
    "plt.show()"
   ]
  },
  {
   "cell_type": "markdown",
   "id": "ae61a271",
   "metadata": {},
   "source": [
    "- AMT_GOODS_PRICE and AMT_CREDIT have heighest correlation around 0.99\n",
    "- AMT_GOODS_PRICE and AMT_ANNUITY is also showing good correlation\n"
   ]
  },
  {
   "cell_type": "code",
   "execution_count": null,
   "id": "ea7c2a5d",
   "metadata": {},
   "outputs": [],
   "source": [
    "###plot heatmap to find correlation between all numerical variables when target_1\n",
    "plt.figure(figsize=(30,15)) \n",
    "sns.heatmap(target_1.corr(), annot=True, cmap=\"RdYlGn\",center=0.4)\n",
    "plt.title('Correlation for target_1')\n",
    "plt.show()"
   ]
  },
  {
   "cell_type": "markdown",
   "id": "7b2fce43",
   "metadata": {},
   "source": [
    " - AMT_CREDIT and AMT_GOODS_PRICE have heighest correlation around 0.98"
   ]
  }
 ],
 "metadata": {
  "kernelspec": {
   "display_name": "Python 3",
   "language": "python",
   "name": "python3"
  },
  "language_info": {
   "codemirror_mode": {
    "name": "ipython",
    "version": 3
   },
   "file_extension": ".py",
   "mimetype": "text/x-python",
   "name": "python",
   "nbconvert_exporter": "python",
   "pygments_lexer": "ipython3",
   "version": "3.8.8"
  }
 },
 "nbformat": 4,
 "nbformat_minor": 5
}
